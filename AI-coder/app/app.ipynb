{
 "cells": [
  {
   "cell_type": "code",
   "execution_count": 16,
   "id": "e74e6991",
   "metadata": {},
   "outputs": [],
   "source": [
    "from langchain.embeddings import HuggingFaceEmbeddings\n",
    "from langchain.retrievers import BM25Retriever, EnsembleRetriever\n",
    "from langchain.vectorstores.faiss import FAISS\n",
    "from langchain_core.documents import Document\n",
    "from langchain_community.document_loaders import WebBaseLoader\n",
    "from langchain.text_splitter import RecursiveCharacterTextSplitter\n",
    "from langchain.chains.combine_documents import create_stuff_documents_chain\n",
    "from langchain_core.prompts import ChatPromptTemplate\n",
    "from langchain.chat_models.gigachat import GigaChat\n",
    "from langchain.chains import create_retrieval_chain\n",
    "from langchain_core.messages import HumanMessage, SystemMessage\n",
    "from langchain_gigachat.chat_models import GigaChat\n",
    "from langchain_gigachat.embeddings.gigachat import GigaChatEmbeddings\n",
    "from pathlib import Path"
   ]
  },
  {
   "cell_type": "code",
   "execution_count": 17,
   "id": "4238097f",
   "metadata": {},
   "outputs": [],
   "source": [
    "API_KEY = \"YjllY2FhYjgtNGRlMC00MDA4LWIwZmYtNjdlNjY0ZmI5OTc4OmRkMjZhOWFjLThhNTctNGM3ZC1iZjFkLWQ3NGY1NmRjNTQzMQ==\""
   ]
  },
  {
   "cell_type": "code",
   "execution_count": 18,
   "id": "3a8742bc",
   "metadata": {},
   "outputs": [],
   "source": [
    "doc_files = list(Path(\"..\\\\data\\\\documentation\").rglob(\"*.md\"))\n",
    "code_files = list(Path(\"..\\\\data\\\\code\").rglob(\"*.py\"))\n",
    "\n",
    "doc_splitter = RecursiveCharacterTextSplitter(chunk_size=1000, chunk_overlap=200)\n",
    "code_splitter = RecursiveCharacterTextSplitter(separators=[\"\\nclass\", \"\\ndef\", \"\\n\"], chunk_size=500, chunk_overlap=100)\n",
    "\n",
    "doc_chunks = [doc_splitter.split_text(Path(file).read_text(encoding=\"utf-8\")) for file in doc_files]\n",
    "code_chunks = [code_splitter.split_text(Path(file).read_text(encoding=\"utf-8\")) for file in code_files]\n",
    "\n",
    "docs = [Document(page_content=chunk, metadata={\"source\": \"doc\"}) for file in doc_files for chunk in doc_splitter.split_text(Path(file).read_text(encoding=\"utf-8\"))]\n",
    "code = [Document(page_content=chunk, metadata={\"source\": \"code\"}) for file in code_files for chunk in code_splitter.split_text(Path(file).read_text(encoding=\"utf-8\"))]\n",
    "\n",
    "documents = docs + code"
   ]
  },
  {
   "cell_type": "code",
   "execution_count": 19,
   "id": "987d8ca8",
   "metadata": {},
   "outputs": [],
   "source": [
    "embedding=GigaChatEmbeddings(\n",
    "        credentials=API_KEY,\n",
    "        scope=\"GIGACHAT_API_PERS\",\n",
    "        verify_ssl_certs=False,\n",
    ")\n",
    "\n",
    "vector_store = FAISS.from_documents(docs, embedding=embedding)"
   ]
  },
  {
   "cell_type": "code",
   "execution_count": 20,
   "id": "b3baff57",
   "metadata": {},
   "outputs": [],
   "source": [
    "retriever = vector_store.as_retriever(search_kwargs={\"k\": 5})"
   ]
  },
  {
   "cell_type": "code",
   "execution_count": 25,
   "id": "3cca8fbd",
   "metadata": {},
   "outputs": [],
   "source": [
    "llm = GigaChat(\n",
    "    credentials=API_KEY,\n",
    "    verify_ssl_certs=False,\n",
    ")\n",
    "\n",
    "prompt = ChatPromptTemplate.from_template('''Ты — технический помощник, работающий с библиотекой LangChain. У тебя есть доступ к документации и к исходному коду библиотеки.\n",
    "\n",
    "Твоя задача — ответить на вопрос пользователя, используя и документацию, и код. Следуй этим правилам:\n",
    "\n",
    "---\n",
    "\n",
    "1. 📄 Если информация взята из документации, укажи, из какого именно документа она была получена. Пример:  \n",
    "   _\"Согласно документации (load_chain.md)...\"_\n",
    "\n",
    "2. 🧩 Если информация взята из исходного кода, укажи, из какого файла она была получена. Пример:  \n",
    "   _\"В коде (loader.py) реализована только цепочка summarize_chain...\"_\n",
    "\n",
    "3. ⚠️ Если документация и код противоречат друг другу, всё равно сформулируй полезный ответ, но обязательно предупреди об этом. Пример:  \n",
    "   _\"Документация (load_chain.md) утверждает, что поддерживаются 3 цепочки, однако в коде (loader.py) реализована только одна. Это потенциальное несоответствие.\"_\n",
    "\n",
    "4. ❓ Если ты не уверен, соответствует ли документация коду, также предупреди об этом. Пример:  \n",
    "   _\"Не удалось однозначно проверить, соответствует ли описание в документации (agent_overview.md) текущей реализации кода (agent/base.py). Будьте внимательны.\"_\n",
    "\n",
    "5. 💬 Избегай вымышленных деталей — все факты должны быть подтверждены фрагментами из кода или документации.\n",
    "\n",
    "---\n",
    "\n",
    "В конце ответа сделай краткое заключение:\n",
    "- Указан ли источник каждого утверждения?\n",
    "- Есть ли возможные противоречия?\n",
    "\n",
    "---\n",
    "\n",
    "Теперь ответь на вопрос:\n",
    "\"{context}\"'''\n",
    ")"
   ]
  },
  {
   "cell_type": "code",
   "execution_count": 26,
   "id": "00ec1b53",
   "metadata": {},
   "outputs": [],
   "source": [
    "document_chain = create_stuff_documents_chain(\n",
    "    llm=llm,\n",
    "    prompt=prompt\n",
    ")\n",
    "\n",
    "retrieval_chain = create_retrieval_chain(retriever, document_chain)"
   ]
  },
  {
   "cell_type": "code",
   "execution_count": 27,
   "id": "12f1c5c1",
   "metadata": {},
   "outputs": [
    {
     "data": {
      "text/plain": [
       "{'input': 'What is LangSmith?',\n",
       " 'context': [Document(id='51d527a9-9ec0-4383-bc25-2a187cb38bae', metadata={'source': 'doc'}, page_content='## Обзор агента\\n\\nАгент LangChain использует инструментальную среду и LLM для принятия решений о действиях. Он может вызывать внешние API и использовать инструменты.'),\n",
       "  Document(id='25afbb9a-6f6d-49f1-b889-d909cc7a5468', metadata={'source': 'doc'}, page_content='## Векторные хранилища\\n\\nLangChain поддерживает FAISS, Chroma, Weaviate, Pinecone и другие. Для загрузки используется метод `from_documents`.'),\n",
       "  Document(id='bedeed30-de04-4f7c-88c5-0000a88f4ac9', metadata={'source': 'doc'}, page_content='## Чат-модели\\n\\nLangChain интегрирован с OpenAI, Anthropic, Azure. Чат-модель вызывается через `ChatOpenAI`, `ChatAnthropic` и т.п.'),\n",
       "  Document(id='2b597f94-7c54-47e5-a85c-24019fd4d450', metadata={'source': 'doc'}, page_content='## Обработка ошибок\\n\\nМногие классы LangChain выбрасывают собственные ошибки, например `OutputParserException`, `ChainLoadError` и другие.'),\n",
       "  Document(id='6cb6439d-8850-4653-87c4-11388a941837', metadata={'source': 'doc'}, page_content='## Функция `load_chain`\\n\\nФункция `load_chain` предназначена для загрузки заранее настроенных цепочек обработки из конфигурационного файла или по имени.\\n\\n### Пример использования\\n\\n```python\\nfrom langchain.chains import load_chain\\n\\nchain = load_chain(\"summarize_chain\")\\nresponse = chain.run(\"This is a long article text...\")')],\n",
       " 'answer': '**Источник информации**: Документация (`load_chain.md`).\\n\\n**Утверждение**: Функция `load_chain` предназначена для загрузки заранее настроенных цепочек обработки из конфигурационного файла или по имени.\\n\\n**Подробности**: Согласно документации, функция `load_chain` загружает предварительно настроенные цепочки обработки из конфигурационных файлов или по названию. Однако конкретная реализация этой функции не описана в предоставленной документации.\\n\\n**Возможные противоречия**: Информация о том, как именно работает функция `load_chain`, неполная. Описание в документации предполагает поддержку нескольких цепочек, но из предоставленного кода видно, что реализована только одна цепочка (`summarize_chain`). Это может указывать на потенциальное несоответствие между документацией и реальным состоянием кода.\\n\\n**Заключение**: Полное понимание работы функции `load_chain` требует дополнительного анализа кода или уточнения в документации.'}"
      ]
     },
     "execution_count": 27,
     "metadata": {},
     "output_type": "execute_result"
    }
   ],
   "source": [
    "q1 = 'What is LangSmith?'\n",
    "\n",
    "resp1 = retrieval_chain.invoke(\n",
    "    {'input': q1}\n",
    ")\n",
    "\n",
    "resp1"
   ]
  },
  {
   "cell_type": "code",
   "execution_count": 28,
   "id": "42f06c40",
   "metadata": {},
   "outputs": [
    {
     "data": {
      "text/plain": [
       "{'input': 'Как агент принимает решение, что делать?',\n",
       " 'context': [Document(id='51d527a9-9ec0-4383-bc25-2a187cb38bae', metadata={'source': 'doc'}, page_content='## Обзор агента\\n\\nАгент LangChain использует инструментальную среду и LLM для принятия решений о действиях. Он может вызывать внешние API и использовать инструменты.'),\n",
       "  Document(id='9dbb8b6b-6c12-4517-8282-df40eab05078', metadata={'source': 'doc'}, page_content='## Инструменты агента\\n\\nИнструменты позволяют агенту выполнять задачи: делать HTTP-запросы, выполнять вычисления, обращаться к БД и т.д.'),\n",
       "  Document(id='db6f70f1-c70b-4982-8dda-76829bdda0dd', metadata={'source': 'doc'}, page_content='## Пользовательские цепочки\\n\\nМожно определить свои цепочки, наследуясь от класса `Chain` и реализуя методы `__init__` и `run`.'),\n",
       "  Document(id='bedeed30-de04-4f7c-88c5-0000a88f4ac9', metadata={'source': 'doc'}, page_content='## Чат-модели\\n\\nLangChain интегрирован с OpenAI, Anthropic, Azure. Чат-модель вызывается через `ChatOpenAI`, `ChatAnthropic` и т.п.'),\n",
       "  Document(id='25afbb9a-6f6d-49f1-b889-d909cc7a5468', metadata={'source': 'doc'}, page_content='## Векторные хранилища\\n\\nLangChain поддерживает FAISS, Chroma, Weaviate, Pinecone и другие. Для загрузки используется метод `from_documents`.')],\n",
       " 'answer': '**Источник информации**: \\n- Документация по обзорной странице агента находится в файле `agent_overview.md`.\\n- Информация о том, как создавать пользовательские цепочки, содержится в разделе `user_chains.md`.\\n- Описание работы с чат-моделями можно найти в файлах `chat_openai.md`, `chat_anthropic.md` и других соответствующих документах.\\n- Поддержка векторных хранилищ описана в документации по загрузке данных (`from_documents`).\\n\\n**Кодовая база**:\\n- Основная функциональность агента реализована в файле `base.py`.\\n- Конкретные примеры использования классов `Chain`, `UserChain`, `ChatOpenAI`, `FAISS`, `Weaviate` и других приведены в разных модулях библиотеки, например, в `user_chains.py`, `chat_openai.py`, `faiss.py`, `weaviate.py` и так далее.\\n\\n**Возможные противоречия**:\\n- Недостаточно конкретики относительно того, какие именно пользовательские цепочки могут быть реализованы. Например, в документации указано, что нужно наследоваться от `Chain` и реализовать методы `__init__` и `run`, но не уточняется, какой минимальный набор методов должен быть реализован.\\n- Также стоит отметить, что в документации говорится о поддержке трех чат-моделей, тогда как в предоставленном ответе упоминается лишь две (OpenAI и Anthropic), что указывает на возможное несоответствие между документацией и реальной реализацией.\\n\\n**Заключение**:\\n- Все факты подтверждаются либо ссылками на документацию, либо указанием конкретных файлов с кодом.\\n- Возможны противоречия между документацией и реальным состоянием дел в коде.'}"
      ]
     },
     "execution_count": 28,
     "metadata": {},
     "output_type": "execute_result"
    }
   ],
   "source": [
    "q1 = 'Как агент принимает решение, что делать?'\n",
    "\n",
    "resp1 = retrieval_chain.invoke(\n",
    "    {'input': q1}\n",
    ")\n",
    "\n",
    "resp1"
   ]
  },
  {
   "cell_type": "code",
   "execution_count": 29,
   "id": "3e701d3e",
   "metadata": {},
   "outputs": [
    {
     "data": {
      "text/plain": [
       "{'input': 'Какие векторные базы поддерживает LangChain?',\n",
       " 'context': [Document(id='25afbb9a-6f6d-49f1-b889-d909cc7a5468', metadata={'source': 'doc'}, page_content='## Векторные хранилища\\n\\nLangChain поддерживает FAISS, Chroma, Weaviate, Pinecone и другие. Для загрузки используется метод `from_documents`.'),\n",
       "  Document(id='bedeed30-de04-4f7c-88c5-0000a88f4ac9', metadata={'source': 'doc'}, page_content='## Чат-модели\\n\\nLangChain интегрирован с OpenAI, Anthropic, Azure. Чат-модель вызывается через `ChatOpenAI`, `ChatAnthropic` и т.п.'),\n",
       "  Document(id='2b597f94-7c54-47e5-a85c-24019fd4d450', metadata={'source': 'doc'}, page_content='## Обработка ошибок\\n\\nМногие классы LangChain выбрасывают собственные ошибки, например `OutputParserException`, `ChainLoadError` и другие.'),\n",
       "  Document(id='51d527a9-9ec0-4383-bc25-2a187cb38bae', metadata={'source': 'doc'}, page_content='## Обзор агента\\n\\nАгент LangChain использует инструментальную среду и LLM для принятия решений о действиях. Он может вызывать внешние API и использовать инструменты.'),\n",
       "  Document(id='6cb6439d-8850-4653-87c4-11388a941837', metadata={'source': 'doc'}, page_content='## Функция `load_chain`\\n\\nФункция `load_chain` предназначена для загрузки заранее настроенных цепочек обработки из конфигурационного файла или по имени.\\n\\n### Пример использования\\n\\n```python\\nfrom langchain.chains import load_chain\\n\\nchain = load_chain(\"summarize_chain\")\\nresponse = chain.run(\"This is a long article text...\")')],\n",
       " 'answer': 'Чтобы ответить на ваш вопрос, я должен понять, какую конкретно информацию вы хотите получить относительно векторных хранилищ, чат-моделей и обработки ошибок в контексте LangChain. Пожалуйста, уточните, какая часть этого описания требует дополнительного разъяснения.'}"
      ]
     },
     "execution_count": 29,
     "metadata": {},
     "output_type": "execute_result"
    }
   ],
   "source": [
    "q1 = 'Какие векторные базы поддерживает LangChain?'\n",
    "\n",
    "resp1 = retrieval_chain.invoke(\n",
    "    {'input': q1}\n",
    ")\n",
    "\n",
    "resp1"
   ]
  },
  {
   "cell_type": "code",
   "execution_count": 30,
   "id": "4f5b380a",
   "metadata": {},
   "outputs": [
    {
     "data": {
      "text/plain": [
       "{'input': 'Что произойдет, если передать неизвестную цепочку в load_chain?',\n",
       " 'context': [Document(id='6cb6439d-8850-4653-87c4-11388a941837', metadata={'source': 'doc'}, page_content='## Функция `load_chain`\\n\\nФункция `load_chain` предназначена для загрузки заранее настроенных цепочек обработки из конфигурационного файла или по имени.\\n\\n### Пример использования\\n\\n```python\\nfrom langchain.chains import load_chain\\n\\nchain = load_chain(\"summarize_chain\")\\nresponse = chain.run(\"This is a long article text...\")'),\n",
       "  Document(id='db6f70f1-c70b-4982-8dda-76829bdda0dd', metadata={'source': 'doc'}, page_content='## Пользовательские цепочки\\n\\nМожно определить свои цепочки, наследуясь от класса `Chain` и реализуя методы `__init__` и `run`.'),\n",
       "  Document(id='2b597f94-7c54-47e5-a85c-24019fd4d450', metadata={'source': 'doc'}, page_content='## Обработка ошибок\\n\\nМногие классы LangChain выбрасывают собственные ошибки, например `OutputParserException`, `ChainLoadError` и другие.'),\n",
       "  Document(id='25afbb9a-6f6d-49f1-b889-d909cc7a5468', metadata={'source': 'doc'}, page_content='## Векторные хранилища\\n\\nLangChain поддерживает FAISS, Chroma, Weaviate, Pinecone и другие. Для загрузки используется метод `from_documents`.'),\n",
       "  Document(id='bedeed30-de04-4f7c-88c5-0000a88f4ac9', metadata={'source': 'doc'}, page_content='## Чат-модели\\n\\nLangChain интегрирован с OpenAI, Anthropic, Azure. Чат-модель вызывается через `ChatOpenAI`, `ChatAnthropic` и т.п.')],\n",
       " 'answer': '### Документация, использованная при ответе:\\n- **load_chain.md** – описывает функцию `load_chain` и примеры её использования.\\n- **agent_overview.md** – упоминает о возможности определения собственных цепочек и их работы с `Chain`.\\n- **output_parser_exception.md** – ссылается на класс `OutputParserException`, который может использоваться для обработки ошибок.\\n- **vector_stores.md** – содержит информацию о векторных хранилищах, таких как FAISS, Chroma, Weaviate и других, которые могут быть загружены с помощью метода `from_documents`.\\n- **chat_models.md** – включает сведения о поддержке чат-моделей OpenAI, Anthropic и Azure.\\n\\n### Исходный код, использованный при ответе:\\n- **load_chain.py** – реализация функции `load_chain`.\\n- **chain.py** – класс, который может быть унаследован для создания пользовательских цепочек.\\n- **output_parser_exception.py** – определение исключения `OutputParserException`.\\n- **vector_stores.py** – код, связанный с поддержкой различных векторных хранилищ.\\n- **chat_openai.py** – часть кода, связанная с интеграцией с OpenAI.\\n\\n### Заключение:\\nКаждый пункт ответа подкреплен либо ссылкой на конкретный раздел документации, либо упоминанием соответствующего файла исходного кода. Противоречий между документацией и кодом не обнаружено.'}"
      ]
     },
     "execution_count": 30,
     "metadata": {},
     "output_type": "execute_result"
    }
   ],
   "source": [
    "q1 = 'Что произойдет, если передать неизвестную цепочку в load_chain?'\n",
    "\n",
    "resp1 = retrieval_chain.invoke(\n",
    "    {'input': q1}\n",
    ")\n",
    "\n",
    "resp1"
   ]
  },
  {
   "cell_type": "code",
   "execution_count": 31,
   "id": "e61b9666",
   "metadata": {},
   "outputs": [
    {
     "data": {
      "text/plain": [
       "{'input': 'Как реализовать собственную цепочку?',\n",
       " 'context': [Document(id='db6f70f1-c70b-4982-8dda-76829bdda0dd', metadata={'source': 'doc'}, page_content='## Пользовательские цепочки\\n\\nМожно определить свои цепочки, наследуясь от класса `Chain` и реализуя методы `__init__` и `run`.'),\n",
       "  Document(id='6cb6439d-8850-4653-87c4-11388a941837', metadata={'source': 'doc'}, page_content='## Функция `load_chain`\\n\\nФункция `load_chain` предназначена для загрузки заранее настроенных цепочек обработки из конфигурационного файла или по имени.\\n\\n### Пример использования\\n\\n```python\\nfrom langchain.chains import load_chain\\n\\nchain = load_chain(\"summarize_chain\")\\nresponse = chain.run(\"This is a long article text...\")'),\n",
       "  Document(id='2b597f94-7c54-47e5-a85c-24019fd4d450', metadata={'source': 'doc'}, page_content='## Обработка ошибок\\n\\nМногие классы LangChain выбрасывают собственные ошибки, например `OutputParserException`, `ChainLoadError` и другие.'),\n",
       "  Document(id='25afbb9a-6f6d-49f1-b889-d909cc7a5468', metadata={'source': 'doc'}, page_content='## Векторные хранилища\\n\\nLangChain поддерживает FAISS, Chroma, Weaviate, Pinecone и другие. Для загрузки используется метод `from_documents`.'),\n",
       "  Document(id='51d527a9-9ec0-4383-bc25-2a187cb38bae', metadata={'source': 'doc'}, page_content='## Обзор агента\\n\\nАгент LangChain использует инструментальную среду и LLM для принятия решений о действиях. Он может вызывать внешние API и использовать инструменты.')],\n",
       " 'answer': 'Согласно документации (`load_chain.md`), пользователь действительно может определять свои цепочки, наследуясь от класса `Chain` и реализуя методы `__init__` и `run`. Метод `load_chain` используется для загрузки ранее настроенных цепочек обработки из конфигурационного файла или по имени. В коде реализованы различные методы для работы с векторными хранилищами и поддержкой различных инструментов, таких как FAISS, Chroma, Weaviate и других.\\n\\nОднако стоит отметить, что документация не предоставляет примеров того, как конкретно нужно реализовать класс цепочки и как будет выглядеть метод `run`. Кроме того, некоторые детали могут отсутствовать в текущем коде, поскольку он содержит лишь основную структуру без полной функциональности, описанной в документации. Поэтому будьте внимательны при использовании этой информации, так как возможны расхождения между описанием в документации и текущим состоянием кода.'}"
      ]
     },
     "execution_count": 31,
     "metadata": {},
     "output_type": "execute_result"
    }
   ],
   "source": [
    "q1 = 'Как реализовать собственную цепочку?'\n",
    "\n",
    "resp1 = retrieval_chain.invoke(\n",
    "    {'input': q1}\n",
    ")\n",
    "\n",
    "resp1"
   ]
  },
  {
   "cell_type": "code",
   "execution_count": 32,
   "id": "02956cbe",
   "metadata": {},
   "outputs": [
    {
     "data": {
      "text/plain": [
       "{'input': 'Как использовать PromptTemplate?',\n",
       " 'context': [Document(id='bedeed30-de04-4f7c-88c5-0000a88f4ac9', metadata={'source': 'doc'}, page_content='## Чат-модели\\n\\nLangChain интегрирован с OpenAI, Anthropic, Azure. Чат-модель вызывается через `ChatOpenAI`, `ChatAnthropic` и т.п.'),\n",
       "  Document(id='25afbb9a-6f6d-49f1-b889-d909cc7a5468', metadata={'source': 'doc'}, page_content='## Векторные хранилища\\n\\nLangChain поддерживает FAISS, Chroma, Weaviate, Pinecone и другие. Для загрузки используется метод `from_documents`.'),\n",
       "  Document(id='7a9b4c52-88d6-4cc9-a314-2c6f7cf2eaba', metadata={'source': 'doc'}, page_content='## Загрузка документов\\n\\nЗагрузка поддерживается с помощью `DirectoryLoader`, `WebBaseLoader`, `PDFLoader` и т.д.'),\n",
       "  Document(id='db6f70f1-c70b-4982-8dda-76829bdda0dd', metadata={'source': 'doc'}, page_content='## Пользовательские цепочки\\n\\nМожно определить свои цепочки, наследуясь от класса `Chain` и реализуя методы `__init__` и `run`.'),\n",
       "  Document(id='51d527a9-9ec0-4383-bc25-2a187cb38bae', metadata={'source': 'doc'}, page_content='## Обзор агента\\n\\nАгент LangChain использует инструментальную среду и LLM для принятия решений о действиях. Он может вызывать внешние API и использовать инструменты.')],\n",
       " 'answer': 'Давайте разберем ваш запрос по частям, следуя установленным правилам.\\n\\n### 1. Чат-модели\\n\\nСогласно документации (`chat_integration.md`), LangChain действительно поддерживает интеграцию с чат-моделями от OpenAI, Anthropic и Microsoft Azure. Вызов этих моделей осуществляется через классы `ChatOpenAI`, `ChatAnthropic` и `ChatAzure`, соответственно.\\n\\n```python\\nclass ChatOpenAI(Chain):\\n    \"\"\"Чат-интеграция с OpenAI\"\"\"\\n    \\nclass ChatAnthropic(Chain):\\n    \"\"\"Чат-интеграция с Anthropic\"\"\"\\n    \\nclass ChatAzure(Chain):\\n    \"\"\"Чат-интеграция с Microsoft Azure\"\"\"\\n```\\n\\nИсточник информации: документация (`chat_integration.md`).\\n\\n### 2. Векторные хранилища\\n\\nПоддержка векторных хранилищ в LangChain реализована через такие библиотеки как FAISS, Chroma, Weaviate и Pinecone. Согласно документации (`vector_stores.md`), загрузка данных в эти хранилища происходит с использованием метода `from_documents`:\\n\\n```python\\ndef from_documents(self, documents, *args, **kwargs):\\n    \"\"\"Инициализация хранилища векторов документов.\"\"\"\\n    return self._get_storage().from_documents(documents, *args, **kwargs)\\n```\\n\\nИсточник информации: документация (`vector_stores.md`).\\n\\n### 3. Загрузка документов\\n\\nДля загрузки документов LangChain предоставляет несколько классов-загрузчиков: `DirectoryLoader`, `WebBaseLoader`, `PDFLoader` и другие. Например, класс `DirectoryLoader` загружает документы из указанной директории:\\n\\n```python\\nclass DirectoryLoader(AbstractLoader):\\n    \"\"\"Загрузчик документов из директории.\"\"\"\\n    \\n    def __init__(self, directory, encoding=\\'utf-8\\', *args, **kwargs):\\n        super().__init__(*args, **kwargs)\\n        self.directory = directory\\n        self.encoding = encoding\\n```\\n\\nИсточник информации: документация (`loaders.md`).\\n\\n### 4. Пользовательские цепочки\\n\\nВы можете создать свою пользовательскую цепочку, наследуясь от базового класса `Chain` и переопределив необходимые методы. Документация упоминает необходимость реализовать конструктор `__init__` и метод `run`:\\n\\n```python\\nclass CustomChain(Chain):\\n    def __init__(self, *args, **kwargs):\\n        # Инициализация параметров\\n        super().__init__(*args, **kwargs)\\n        \\n    def run(self, input_data):\\n        # Обработка входных данных и возвращение результата\\n        return \\'Результат работы вашей цепочки\\'\\n```\\n\\nИсточник информации: документация (`custom_chains.md`).\\n\\n### 5. Обзор агента\\n\\nАгент LangChain предназначен для использования в связке с языковыми моделями и инструментальными средами. Агент взаимодействует с внешними API и использует инструменты для принятия решений. Исходный код реализации можно найти в файле `agent/base.py`:\\n\\n```python\\nclass BaseAgent:\\n    \"\"\"Базовый агент для LangChain.\"\"\"\\n    \\n    def __init__(self, environment, lang_model=None, instrumentation=None, *args, **kwargs):\\n        self.environment = environment\\n        self.lang_model = lang_model or environment.default_language_model\\n        self.instrumentation = instrumentation or environment.default_instrumentation\\n```\\n\\nИсточник информации: код (`agent/base.py`).\\n\\n---\\n\\n**Заключение:**\\n\\n1. Все источники информации указаны правильно: как из документации, так и из кода.\\n2. Возможные противоречия:\\n   - В документации утверждается, что поддерживаются три чат-модели (OpenAI, Anthropic, Azure), но в коде реализованы только две из них (`ChatOpenAI` и `ChatAnthropic`).\\n   - Недостаточно ясно описано, какие конкретно классы используются для загрузки документов и векторных хранилищ, кроме того, что они существуют.\\n3. Информация о создании пользовательских цепочек требует дополнительной проверки соответствия кода документации, поскольку это может быть устаревшая информация.'}"
      ]
     },
     "execution_count": 32,
     "metadata": {},
     "output_type": "execute_result"
    }
   ],
   "source": [
    "q1 = 'Как использовать PromptTemplate?'\n",
    "\n",
    "resp1 = retrieval_chain.invoke(\n",
    "    {'input': q1}\n",
    ")\n",
    "\n",
    "resp1"
   ]
  },
  {
   "cell_type": "code",
   "execution_count": 33,
   "id": "98ccd789",
   "metadata": {},
   "outputs": [
    {
     "data": {
      "text/plain": [
       "{'input': 'Приведи пример загрузки файлов из директории',\n",
       " 'context': [Document(id='7a9b4c52-88d6-4cc9-a314-2c6f7cf2eaba', metadata={'source': 'doc'}, page_content='## Загрузка документов\\n\\nЗагрузка поддерживается с помощью `DirectoryLoader`, `WebBaseLoader`, `PDFLoader` и т.д.'),\n",
       "  Document(id='6cb6439d-8850-4653-87c4-11388a941837', metadata={'source': 'doc'}, page_content='## Функция `load_chain`\\n\\nФункция `load_chain` предназначена для загрузки заранее настроенных цепочек обработки из конфигурационного файла или по имени.\\n\\n### Пример использования\\n\\n```python\\nfrom langchain.chains import load_chain\\n\\nchain = load_chain(\"summarize_chain\")\\nresponse = chain.run(\"This is a long article text...\")'),\n",
       "  Document(id='25afbb9a-6f6d-49f1-b889-d909cc7a5468', metadata={'source': 'doc'}, page_content='## Векторные хранилища\\n\\nLangChain поддерживает FAISS, Chroma, Weaviate, Pinecone и другие. Для загрузки используется метод `from_documents`.'),\n",
       "  Document(id='9dbb8b6b-6c12-4517-8282-df40eab05078', metadata={'source': 'doc'}, page_content='## Инструменты агента\\n\\nИнструменты позволяют агенту выполнять задачи: делать HTTP-запросы, выполнять вычисления, обращаться к БД и т.д.'),\n",
       "  Document(id='db6f70f1-c70b-4982-8dda-76829bdda0dd', metadata={'source': 'doc'}, page_content='## Пользовательские цепочки\\n\\nМожно определить свои цепочки, наследуясь от класса `Chain` и реализуя методы `__init__` и `run`.')],\n",
       " 'answer': 'Ответ основан как на документации, так и на коде библиотеки LangChain.\\n\\n**Источник информации:**\\n1. Документация (`load_chain.md`) – информация о функции `load_chain`.\\n2. Код (`langchain/chains.py`) – реализация функции `load_chain`.\\n\\n**Утверждение:**\\nФункция `load_chain` предназначена для загрузки заранее настроенных цепочек обработки из конфигурационного файла или по имени.\\n\\n**Подробности:**\\n- Согласно документации, функция `load_chain` загружает предварительно настроенные цепочки из конфигурационных файлов или по имени.\\n- В коде это подтверждается тем, что функция `load_chain` действительно принимает имя цепочки и возвращает экземпляр цепочки.\\n\\n**Возможные противоречия:**\\nНет явных противоречий между описанием в документации и реализацией в коде. Однако стоит отметить, что документация говорит о поддержке трех цепочек, включая `summarize_chain`, тогда как в коде реализован только один пример.\\n\\n**Вывод:**\\nНа основе имеющейся информации можно утверждать, что функция `load_chain` в целом соответствует своему описанию в документации. Она позволяет загружать предварительно настроенные цепочки по имени, однако количество доступных цепочек может быть меньше, чем указано в документации.'}"
      ]
     },
     "execution_count": 33,
     "metadata": {},
     "output_type": "execute_result"
    }
   ],
   "source": [
    "q1 = 'Приведи пример загрузки файлов из директории'\n",
    "\n",
    "resp1 = retrieval_chain.invoke(\n",
    "    {'input': q1}\n",
    ")\n",
    "\n",
    "resp1"
   ]
  },
  {
   "cell_type": "code",
   "execution_count": 34,
   "id": "7b940704",
   "metadata": {},
   "outputs": [
    {
     "data": {
      "text/plain": [
       "{'input': 'Какие ошибки бывают в LangChain и когда они возникают?',\n",
       " 'context': [Document(id='2b597f94-7c54-47e5-a85c-24019fd4d450', metadata={'source': 'doc'}, page_content='## Обработка ошибок\\n\\nМногие классы LangChain выбрасывают собственные ошибки, например `OutputParserException`, `ChainLoadError` и другие.'),\n",
       "  Document(id='25afbb9a-6f6d-49f1-b889-d909cc7a5468', metadata={'source': 'doc'}, page_content='## Векторные хранилища\\n\\nLangChain поддерживает FAISS, Chroma, Weaviate, Pinecone и другие. Для загрузки используется метод `from_documents`.'),\n",
       "  Document(id='bedeed30-de04-4f7c-88c5-0000a88f4ac9', metadata={'source': 'doc'}, page_content='## Чат-модели\\n\\nLangChain интегрирован с OpenAI, Anthropic, Azure. Чат-модель вызывается через `ChatOpenAI`, `ChatAnthropic` и т.п.'),\n",
       "  Document(id='51d527a9-9ec0-4383-bc25-2a187cb38bae', metadata={'source': 'doc'}, page_content='## Обзор агента\\n\\nАгент LangChain использует инструментальную среду и LLM для принятия решений о действиях. Он может вызывать внешние API и использовать инструменты.'),\n",
       "  Document(id='6cb6439d-8850-4653-87c4-11388a941837', metadata={'source': 'doc'}, page_content='## Функция `load_chain`\\n\\nФункция `load_chain` предназначена для загрузки заранее настроенных цепочек обработки из конфигурационного файла или по имени.\\n\\n### Пример использования\\n\\n```python\\nfrom langchain.chains import load_chain\\n\\nchain = load_chain(\"summarize_chain\")\\nresponse = chain.run(\"This is a long article text...\")')],\n",
       " 'answer': '### Вопрос:\\nКаким образом обрабатываются ошибки в LangChain?\\n\\n**Источник информации:** Документация (`error_handling.md`).\\n\\n**Утверждение:** Многие классы LangChain выбрасывают собственные ошибки, такие как `OutputParserException`, `ChainLoadError` и другие.\\n\\n**Подтверждение:** Согласно документации, обработка ошибок в LangChain происходит на уровне конкретных классов и методов. Например, класс `LLMChain` выбрасывает исключение `ChainLoadError`, если при загрузке модели произошла ошибка. Также некоторые методы, такие как `from_documents`, могут возвращать исключения, если возникли проблемы с загрузкой данных.\\n\\n**Возможные противоречия:** Недостаточно информации о том, какие конкретные ошибки выбрасываются другими классами, кроме `LLMChain` и `from_documents`. В коде (например, в `llm_chain.py`) нет явного упоминания этих исключений.\\n\\n**Заключение:** Информация об ошибках и их типах разбросана по разным частям документации и кода. Необходимо больше детализации, чтобы понять, какие именно ошибки выбрасываются каждым классом или методом.'}"
      ]
     },
     "execution_count": 34,
     "metadata": {},
     "output_type": "execute_result"
    }
   ],
   "source": [
    "q1 = 'Какие ошибки бывают в LangChain и когда они возникают?'\n",
    "\n",
    "resp1 = retrieval_chain.invoke(\n",
    "    {'input': q1}\n",
    ")\n",
    "\n",
    "resp1"
   ]
  }
 ],
 "metadata": {
  "kernelspec": {
   "display_name": "Python 3",
   "language": "python",
   "name": "python3"
  },
  "language_info": {
   "codemirror_mode": {
    "name": "ipython",
    "version": 3
   },
   "file_extension": ".py",
   "mimetype": "text/x-python",
   "name": "python",
   "nbconvert_exporter": "python",
   "pygments_lexer": "ipython3",
   "version": "3.12.4"
  }
 },
 "nbformat": 4,
 "nbformat_minor": 5
}
